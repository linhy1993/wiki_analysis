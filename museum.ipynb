{
 "cells": [
  {
   "cell_type": "code",
   "execution_count": 1,
   "outputs": [],
   "source": [
    "# Import Libraries\n",
    "import json\n",
    "\n",
    "import pandas as pd\n",
    "import requests\n",
    "from bs4 import BeautifulSoup as bs"
   ],
   "metadata": {
    "collapsed": false,
    "pycharm": {
     "name": "#%% \n",
     "is_executing": false
    }
   }
  },
  {
   "cell_type": "code",
   "execution_count": 2,
   "outputs": [],
   "source": [
    "# Send Get request data\n",
    "WIKI_URL = \"https://en.wikipedia.org/w/api.php?formatversion=2&action=parse&page=List_of_most_visited_museums&prop=text&format=json\"\n",
    "response = requests.get(url=WIKI_URL)\n",
    "wiki_data = json.loads(response.text)\n",
    "wiki_text = wiki_data[\"parse\"][\"text\"]\n",
    "\n"
   ],
   "metadata": {
    "collapsed": false,
    "pycharm": {
     "name": "#%%\n",
     "is_executing": false
    }
   }
  },
  {
   "cell_type": "code",
   "execution_count": 3,
   "outputs": [],
   "source": [
    "# Parse text\n",
    "soup = bs(wiki_text, \"lxml\")\n",
    "table = soup.find('table')\n",
    "list_of_rows = []\n",
    "\n",
    "for row in table.findAll('tr'):  # find row\n",
    "    list_of_cells = []\n",
    "    for cell in row.findAll('td'):  # each cell\n",
    "        # if country in it get country\n",
    "        if cell.find('a') and cell.find('a').get('title'):\n",
    "            if cell.find('a').get('class') and 'new' in cell.find('a').get('class'):\n",
    "                text = cell.text  # A special case\n",
    "                list_of_cells.append(text.replace(r'\\xa0[zh', '').strip())\n",
    "                continue\n",
    "            text = cell.find('a').get('title')  # get country\n",
    "            if cell.find('span'):\n",
    "                city = cell.text\n",
    "                list_of_cells.append(city.strip())\n",
    "        else:  # else get text only\n",
    "            text = cell.text\n",
    "        list_of_cells.append(text.strip())\n",
    "    if list_of_cells:\n",
    "        list_of_rows.append(list_of_cells)\n",
    "\n"
   ],
   "metadata": {
    "collapsed": false,
    "pycharm": {
     "name": "#%%\n",
     "is_executing": false
    }
   }
  },
  {
   "cell_type": "code",
   "execution_count": 4,
   "outputs": [],
   "source": [
    "# Convert into dataframe\n",
    "df = pd.DataFrame(list_of_rows, columns=['Museum_Name',\n",
    "                                         'City',\n",
    "                                         'Country',\n",
    "                                         'Number_Of_Visitors',\n",
    "                                         'Year_Reported'])\n",
    "df['Number_Of_Visitors'] = df['Number_Of_Visitors'].map(lambda num: int(str(num).replace(',', '')))\n",
    "df['Year_Reported'] = df['Year_Reported'].map(lambda num: int(str(num)[:4]))"
   ],
   "metadata": {
    "collapsed": false,
    "pycharm": {
     "name": "#%%\n",
     "is_executing": false
    }
   }
  },
  {
   "cell_type": "code",
   "execution_count": 5,
   "outputs": [],
   "source": [
    "# Import database\n",
    "from db import Database, City"
   ],
   "metadata": {
    "collapsed": false,
    "pycharm": {
     "name": "#%%\n",
     "is_executing": false
    }
   }
  },
  {
   "cell_type": "code",
   "execution_count": 6,
   "outputs": [],
   "source": [
    "# Create function to get city population\n",
    "CITY_DATABASE_URI = 'sqlite:///city_info.sqlite'  # db path\n",
    "\n",
    "city_db = Database(db_uri=CITY_DATABASE_URI)\n",
    "\n",
    "def get_city_population(city: str):\n",
    "    population_results = city_db.session.query(City).filter(City.city == city).first()\n",
    "    if population_results:\n",
    "        return population_results.population\n",
    "    else:\n",
    "        return None"
   ],
   "metadata": {
    "collapsed": false,
    "pycharm": {
     "name": "#%%\n",
     "is_executing": false
    }
   }
  },
  {
   "cell_type": "code",
   "execution_count": 7,
   "outputs": [],
   "source": [
    "# Get lng and lat of city\n",
    "def get_city_lat_and_lng(city: str):\n",
    "    results = city_db.session.query(City).filter(City.city == city).first()\n",
    "    if results:\n",
    "        return results.lat, results.lng\n",
    "    else:\n",
    "        return None"
   ],
   "metadata": {
    "collapsed": false,
    "pycharm": {
     "name": "#%% \n",
     "is_executing": false
    }
   }
  },
  {
   "cell_type": "code",
   "execution_count": 8,
   "outputs": [],
   "source": [
    "# Get population into dataframe\n",
    "city_population_lst = []\n",
    "city_lat, city_lng = [], []\n",
    "for iid, row in df.iterrows():\n",
    "    city_population = get_city_population(row['City'])\n",
    "    lat, lng = get_city_lat_and_lng(row['City'])\n",
    "    city_population_lst.append(int(city_population) if city_population else None)\n",
    "    city_lat.append(float(lat) if lat else None)\n",
    "    city_lng.append(float(lng) if lng else None)\n",
    "\n",
    "city_db.close()"
   ],
   "metadata": {
    "collapsed": false,
    "pycharm": {
     "name": "#%%\n",
     "is_executing": false
    }
   }
  },
  {
   "cell_type": "code",
   "execution_count": 9,
   "outputs": [],
   "source": [
    "# Save in db\n",
    "MUSEUM_DATABASE_URI = 'sqlite:///museum.sqlite'  # db path\n",
    "\n",
    "df['Population_Of_City'] = city_population_lst\n",
    "df['Lat_Of_City'] = city_lat\n",
    "df['Lng_Of_City'] = city_lng\n",
    "\n",
    "db = Database(db_uri=MUSEUM_DATABASE_URI)\n",
    "db.create_tables()\n",
    "df.to_sql('museum', index=False, con=db.engine, if_exists='replace')\n",
    "db.close()\n"
   ],
   "metadata": {
    "collapsed": false,
    "pycharm": {
     "name": "#%%\n",
     "is_executing": false
    }
   }
  },
  {
   "cell_type": "code",
   "execution_count": 10,
   "outputs": [],
   "source": [
    "#访问人数\n",
    "visited_people = df['Number_Of_Visitors']\n",
    "#当地人口\n",
    "population = df['Population_Of_City']\n",
    "dataset = list(zip(visited_people, city_lat, city_lng))"
   ],
   "metadata": {
    "collapsed": false,
    "pycharm": {
     "name": "#%%\n",
     "is_executing": false
    }
   }
  },
  {
   "cell_type": "code",
   "execution_count": 11,
   "outputs": [],
   "source": [
    "import numpy as np\n",
    "# X = np.array(visited_people).reshape(-1,1)\n",
    "X = np.array(dataset)\n",
    "y = population.to_numpy().reshape(-1,1)"
   ],
   "metadata": {
    "collapsed": false,
    "pycharm": {
     "name": "#%%\n",
     "is_executing": false
    }
   }
  },
  {
   "cell_type": "code",
   "execution_count": 12,
   "outputs": [],
   "source": [
    "# X, y = visited_people.to_numpy(), population.to_numpy()\n",
    "# X, y = X.reshape(-1,1), y.reshape(-1,1)\n",
    "# Split the data into training/testing sets\n",
    "from sklearn.model_selection import train_test_split\n",
    "X_train, X_test, y_train, y_test = train_test_split(X, y, test_size = 0.2, random_state = 0)"
   ],
   "metadata": {
    "collapsed": false,
    "pycharm": {
     "name": "#%%\n",
     "is_executing": false
    }
   }
  },
  {
   "cell_type": "code",
   "execution_count": 13,
   "outputs": [
    {
     "name": "stdout",
     "text": [
      "Coefficients: \n",
      " [[-1.41215747e-01 -4.35687255e+04  1.27344128e+04]]\n",
      "Mean squared error: 75383488355690.77\n",
      "Coefficient of determination: 0.07\n"
     ],
     "output_type": "stream"
    }
   ],
   "source": [
    "from sklearn.metrics import mean_squared_error, r2_score\n",
    "from sklearn import linear_model\n",
    "\n",
    "regr = linear_model.LinearRegression()\n",
    "regr.fit(X_train, y_train)\n",
    "y_pred = regr.predict(X_test)\n",
    "\n",
    "# The coefficients\n",
    "print('Coefficients: \\n', regr.coef_)\n",
    "# The mean squared error\n",
    "print('Mean squared error: %.2f'\n",
    "    % mean_squared_error(y_test, y_pred))\n",
    "# The coefficient of determination: 1 is perfect prediction\n",
    "print('Coefficient of determination: %.2f'\n",
    "      % r2_score(y_test, y_pred))\n"
   ],
   "metadata": {
    "collapsed": false,
    "pycharm": {
     "name": "#%%\n",
     "is_executing": false
    }
   }
  }
 ],
 "metadata": {
  "kernelspec": {
   "display_name": "Python 3",
   "language": "python",
   "name": "python3"
  },
  "language_info": {
   "codemirror_mode": {
    "name": "ipython",
    "version": 2
   },
   "file_extension": ".py",
   "mimetype": "text/x-python",
   "name": "python",
   "nbconvert_exporter": "python",
   "pygments_lexer": "ipython2",
   "version": "2.7.6"
  },
  "pycharm": {
   "stem_cell": {
    "cell_type": "raw",
    "source": [],
    "metadata": {
     "collapsed": false
    }
   }
  }
 },
 "nbformat": 4,
 "nbformat_minor": 0
}